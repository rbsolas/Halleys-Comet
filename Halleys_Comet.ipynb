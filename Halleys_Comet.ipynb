{
  "cells": [
    {
      "cell_type": "markdown",
      "source": [
        "# Halley's Comet - Trajectory Prediction"
      ],
      "metadata": {
        "id": "eBgDSW5N5WP6"
      }
    },
    {
      "cell_type": "markdown",
      "source": [
        "## Contributors\n",
        "* Ivan Cadiang\n",
        "* Rohan Solas"
      ],
      "metadata": {
        "id": "v9kRqpoH-cs4"
      }
    },
    {
      "cell_type": "markdown",
      "metadata": {
        "id": "rkd6VtyBbni0"
      },
      "source": [
        "## Introduction\n",
        "The three-dimensional equations of motion of a planetary object around the sun is given by\n",
        "\n",
        "$$\n",
        "  \\begin{cases}\n",
        "    \\frac{d^{2}x}{dt^{2}}&=-4\\pi^{2} \\frac{x}{\\left(x^{2}+y^{2}+z^{2}\\right)^{\\frac{3}{2}}} \\\\\n",
        "    \\frac{d^{2}y}{dt^{2}}&=-4\\pi^{2} \\frac{y}{\\left(x^{2}+y^{2}+z^{2}\\right)^{\\frac{3}{2}}} \\\\\n",
        "    \\frac{d^{2}z}{dt^{2}}&=-4\\pi^{2} \\frac{z}{\\left(x^{2}+y^{2}+z^{2}\\right)^{\\frac{3}{2}}}\n",
        "  \\end{cases}\n",
        "$$\n",
        "Halley's comet was seen on its perihelion (or the nearest distance to the sun that becomes visible on Earth) on February 9, 1986. Scientists mapped the position to be\n",
        "$$\n",
        "  \\begin{bmatrix}\n",
        "    x \\\\ y \\\\ z\n",
        "  \\end{bmatrix}=\\begin{bmatrix}\n",
        "      0.325514\\,\\text{Au} \\\\\n",
        "      -0.459460\\,\\text{Au} \\\\\n",
        "      0.166229\\,\\text{Au}\n",
        "  \\end{bmatrix}\n",
        "$$\n",
        "And its velocity to be\n",
        "\n",
        "$$\n",
        "  \\begin{bmatrix}\n",
        "    dx/dt \\\\ dy/dt \\\\ dz/dt\n",
        "  \\end{bmatrix}=\\begin{bmatrix}\n",
        "      -0.096111\\,\\text{Au/year} \\\\\n",
        "      -6.916687\\,\\text{Au/year} \\\\\n",
        "      -1.305721\\,\\text{Au/year}\n",
        "  \\end{bmatrix}\n",
        "$$\n",
        "\n",
        "We want to reconstruct the comet's 3D orbit by solving the IVP using RK4 with step-size doubling/halving. We will be solving for the trajectory for 200 years since it was last seen (February 9, 1986)."
      ]
    },
    {
      "cell_type": "code",
      "execution_count": 1,
      "metadata": {
        "id": "wgdJtbf0eVDc"
      },
      "outputs": [],
      "source": [
        "# Add important libraries for vecotrized computations and plotting\n",
        "import numpy as np\n",
        "import plotly.express as px # https://plotly.com/python/3d-scatter-plots/\n",
        "import pandas as pd # https://www.geeksforgeeks.org/create-a-pandas-dataframe-from-lists/\n",
        "\n",
        "# Add extra libraries here\n",
        "import math\n"
      ]
    },
    {
      "cell_type": "markdown",
      "metadata": {
        "id": "loDvw8iWd0-I"
      },
      "source": [
        "## Finding the acceleration\n",
        "\n",
        "\n",
        "Let $\\vec{p}$, $\\vec{v}$, and $\\vec{a}$ be the comet's position, velocity, and acceleration, respectively.\n",
        "\n",
        "\n",
        "Given position $\\vec{p}$, we calculate its acceleration"
      ]
    },
    {
      "cell_type": "code",
      "execution_count": 2,
      "metadata": {
        "id": "Gw5D14vReQoo",
        "colab": {
          "base_uri": "https://localhost:8080/"
        },
        "outputId": "4724c155-fa46-417b-dc0d-15fe2f693b77"
      },
      "outputs": [
        {
          "output_type": "stream",
          "name": "stdout",
          "text": [
            "[-63.50048662  89.63034949 -32.4275527 ]\n"
          ]
        }
      ],
      "source": [
        "def accel(p):\n",
        "    x = p.item(0) # x-coordinate\n",
        "    y = p.item(1) # y-coordinate\n",
        "    z = p.item(2) # z-coordinate\n",
        "\n",
        "    a = np.empty((3,)) # Initialize acceleration vector\n",
        "\n",
        "    # Calculate acceleration using the formula:\n",
        "    r = (x**2 + y**2 + z**2)**(1.5)\n",
        "    a[0] = -4 * math.pi**2 * x / r\n",
        "    a[1] = -4 * math.pi**2 * y / r\n",
        "    a[2] = -4 * math.pi**2 * z / r\n",
        "\n",
        "    return a # Return acceleration vector\n",
        "\n",
        "print(accel(np.array([0.325514, -0.459460, 0.166229])))"
      ]
    },
    {
      "cell_type": "markdown",
      "metadata": {
        "id": "5i-htDd3ex47"
      },
      "source": [
        "## Deriving the RK4 System of Equations\n",
        "From physics, we know that $\\dot{p}=\\vec{v}$ and $\\dot{\\vec{v}}=\\vec{a}$.\n",
        "\n",
        "This means that $$\\vec{v}_{\\vec{p}_{i+1}}=f(t_i+\\Delta t,\\vec{p}_i)=\\vec{a}_{\\vec{p}_i}\\cdot \\Delta t+\\vec{v}_{\\vec{p}_i}$$\n",
        "for some small step in time $\\Delta t>0$.\n",
        "\n",
        "Suppose we wish to solve the system using RK4 to estimate the position of the comet, derive the iterative equations for $\\vec{v}_{i+1}$ and $\\vec{p}_{i+1}$ where $h$ is the current time step."
      ]
    },
    {
      "cell_type": "markdown",
      "metadata": {
        "id": "SXVt6Aq9n1N8"
      },
      "source": [
        "For $\\vec{v}$,\n",
        "$$\n",
        "\\begin{align*}\n",
        "  k_{1,v}&= \\vec{a}_{p_i} \\\\\n",
        "  k_{2,v}&= \\vec{a}_{\\vec{p}_i+ \\frac{h}{2} \\cdot k_{1,p}} \\\\\n",
        "  k_{3,v}&= \\vec{a}_{\\vec{p}_i+ \\frac{h}{2} \\cdot k_{2,p}} \\\\\n",
        "  k_{4,v}&= \\vec{a}_{\\vec{p}_i+ h \\cdot k_{3,p}} \\\\\n",
        "\\end{align*}\n",
        "$$\n",
        "\n",
        "And now for $\\vec{p}$,\n",
        "\n",
        "$$\n",
        "\\begin{align*}\n",
        "  k_{1,p}&= \\vec{v}_i \\\\\n",
        "  k_{2,p}&= \\frac{h}{2} \\cdot k_{1,v} + \\vec{v}_i\\\\\n",
        "  k_{3,p}&= \\frac{h}{2} \\cdot k_{2,v} + \\vec{v}_i\\\\\n",
        "  k_{4,p}&= h \\cdot k_{3,v} + \\vec{v}_i\\\\\n",
        "\\end{align*}\n",
        "$$\n",
        "\n",
        "Now, we build $\\vec{v}_{i+1}$ and $\\vec{p}_{i+1}$.\n",
        "$$\n",
        "\\begin{align*}\n",
        "  \\vec{v}_{i+1}&= \\vec{v}_i + \\dfrac{h}{6} (k_{1,v} + 2k_{2,v} + 2k_{3,v} + k_{4,v}) \\\\\n",
        "  \\vec{p}_{i+1}&= \\vec{p}_i + \\dfrac{h}{6} (k_{1,p} + 2k_{2,p} + 2k_{3,p} + k_{4,p})\n",
        "\\end{align*}\n",
        "$$"
      ]
    },
    {
      "cell_type": "markdown",
      "metadata": {
        "id": "M9FZ4mCupDIG"
      },
      "source": [
        "Now, we use the system we just derived in a function that calculates one iteration of RK4."
      ]
    },
    {
      "cell_type": "code",
      "execution_count": 3,
      "metadata": {
        "id": "R6d4EpNdzxsn"
      },
      "outputs": [],
      "source": [
        "def RK4_single(p, v, h):\n",
        "  # p_prime = v => y = p, f = y' = v\n",
        "  # v_prime = a => y = v, f = y' = a\n",
        "\n",
        "  k_1v = accel(p)\n",
        "  k_1p = v\n",
        "\n",
        "  k_2v = accel(p + h/2 * k_1p)\n",
        "  k_2p = h/2 * k_1v + v\n",
        "\n",
        "  k_3v = accel(p + h/2 * k_2p)\n",
        "  k_3p = h/2 * k_2v + v\n",
        "\n",
        "  k_4v = accel(p + h * k_3p)\n",
        "  k_4p = h * k_3v + v\n",
        "\n",
        "\n",
        "  v1 = v + (h/6)*(k_1v + 2*k_2v + 2*k_3v + k_4v)\n",
        "  p1 = p + (h/6)*(k_1p + 2*k_2p + 2*k_3p + k_4p)\n",
        "\n",
        "  return v1, p1 # You may modify the return values here if you want\n",
        "  # to use this method for the next cell"
      ]
    },
    {
      "cell_type": "markdown",
      "metadata": {
        "id": "3fTsGPHo57Vm"
      },
      "source": [
        "When performing adaptive step size computations, we need **two** sets of values. The first computation is for $\\Delta t$ and the other one is for $\\Delta t / 2$.\n",
        "\n",
        "After obtaining `v1` and `p1`, perform another iteration of RK4 with time step $\\Delta t/2$."
      ]
    },
    {
      "cell_type": "code",
      "execution_count": 4,
      "metadata": {
        "id": "P6cg11b-7PFL"
      },
      "outputs": [],
      "source": [
        "def RK4_adaptive(p, v, h):\n",
        "  v1, p1 = RK4_single(p, v, h)\n",
        "  v2, p2 = RK4_single(p1, v1, h/2)\n",
        "  v2, p2 = RK4_single(p2, v2, h/2)\n",
        "\n",
        "  return v1, p1, v2, p2 # v2 and p2 are the values obtained from h/2"
      ]
    },
    {
      "cell_type": "markdown",
      "metadata": {
        "id": "8KpdarRgsn49"
      },
      "source": [
        "## Assembling the Adaptive RK4 algorithm\n",
        "\n",
        "Now that the coefficients are done, we will now implement the changes in the step size. The following are the parameters that the algorithm will use.\n",
        "\n",
        "*   Initial time step $h$\n",
        "*   Minimum step size $h_{min}$ so that the algorithm doesn't stop\n",
        "*   Minimum and maximum tolerance $\\varepsilon_{min}$ and $\\varepsilon_{max}$ (inclusive) denotes the bounds wherein the step size doesn't change.\n",
        "\n",
        "After computing for the coefficients $\\texttt{v2}$ and $\\texttt{p2}$, we want to assemble our algorithm.\n",
        "\n",
        "Adaptive step size works by computing for the *largest* absolute error between the computed $p$ values from $\\Delta t$ and $\\Delta t/2$. This value is a scalar.\n",
        "\n",
        "If the error is large, we want to keep halving the step size until the error is within the bounds defined. If the error is too small, we save $\\Delta t$ and the step size is doubled. Otherwise, we will only save the approximation at $\\Delta t$."
      ]
    },
    {
      "cell_type": "code",
      "execution_count": 5,
      "metadata": {
        "id": "n8OD0gdvB74J"
      },
      "outputs": [],
      "source": [
        "def RK4_iterate(p, v, h, t_start, t_end, h_min, e_min, e_max):\n",
        "  # The inital value is the sun positioned at (0, 0, 0)\n",
        "  time, x_computed, y_computed, z_computed, distance_computed, step_size_computed = [t_start], [0], [0], [0], [30], [h]\n",
        "  # Add your code here\n",
        "  while t_start < t_end:\n",
        "        # Perform RK4 with constant step size h\n",
        "        v1, p1, v2, p2 = RK4_adaptive(p, v, h)\n",
        "\n",
        "        # Compute the largest absolute error between p values\n",
        "        error = np.max(np.abs(p1 - p2))\n",
        "\n",
        "        if error > e_max:\n",
        "            # Halve the step size and redo\n",
        "            h /= 2\n",
        "        elif error < e_min and h < h_min:\n",
        "            # Double next step size and update t_start\n",
        "            t_start += h\n",
        "\n",
        "            time.append(t_start)\n",
        "            step_size_computed.append(h)\n",
        "            x_computed.append(p1[0])\n",
        "            y_computed.append(p1[1])\n",
        "            z_computed.append(p1[2])\n",
        "            distance_computed.append(np.sqrt(p1[0]**2 + p1[1]**2 + p1[2]**2))\n",
        "\n",
        "            p = p1\n",
        "            v = v1\n",
        "\n",
        "            h *= 2\n",
        "        else:\n",
        "            # Save the approximation at t_start\n",
        "            t_start += h\n",
        "\n",
        "            # While iterating, append the values to the lists provided above.\n",
        "            time.append(t_start)\n",
        "            step_size_computed.append(h)\n",
        "            x_computed.append(p1[0])\n",
        "            y_computed.append(p1[1])\n",
        "            z_computed.append(p1[2])\n",
        "            distance_computed.append(np.sqrt(p1[0]**2 + p1[1]**2 + p1[2]**2))\n",
        "\n",
        "            p = p1\n",
        "            v = v1\n",
        "\n",
        "  return (time, x_computed, y_computed, z_computed, distance_computed, step_size_computed)"
      ]
    },
    {
      "cell_type": "markdown",
      "metadata": {
        "id": "bAhJzRoy_etE"
      },
      "source": [
        "## Generating and plotting the points for the comet's trajectory"
      ]
    },
    {
      "cell_type": "code",
      "execution_count": 6,
      "metadata": {
        "id": "J4nfo33DrzZ0"
      },
      "outputs": [],
      "source": [
        "# Initial parameters\n",
        "h = 0.01\n",
        "t_start = 0.00\n",
        "t_end = 200.0\n",
        "h_min = 1e-9\n",
        "e_min = 1e-3\n",
        "e_max = 1e-2\n",
        "\n",
        "p0 = np.array([0.325514, -0.459460, 0.166229])\n",
        "v0 = np.array([-0.096111, -6.916687, -1.305721])"
      ]
    },
    {
      "cell_type": "code",
      "execution_count": 7,
      "metadata": {
        "id": "x8oQ_sFnxoAe"
      },
      "outputs": [],
      "source": [
        "# NOTE: Takes about a minute and a half to execute\n",
        "time, xdata, ydata, zdata, distances, step_sizes = RK4_iterate(p0, v0, h, t_start, t_end, h_min, e_min, e_max)"
      ]
    },
    {
      "cell_type": "code",
      "execution_count": 11,
      "metadata": {
        "id": "TkTVZ9NG8Y5j"
      },
      "outputs": [],
      "source": [
        "df = pd.DataFrame(dtype = float)\n",
        "df['x'] = xdata\n",
        "df['y'] = ydata\n",
        "df['z'] = zdata\n",
        "df['time'] = time\n",
        "df['step_size'] = step_sizes\n",
        "df['distance_from_sun'] = distances\n",
        "fig = px.scatter_3d(df, x='x', y='y', z='z', color='distance_from_sun')\n",
        "fig.update_layout(margin=dict(l=0, r=0, b=0, t=0))\n",
        "fig.show()"
      ]
    },
    {
      "cell_type": "markdown",
      "metadata": {
        "id": "jDTEoXrjBtVm"
      },
      "source": [
        "We also have data values for `(time, distance_computed)`. This means that we will plot its distance from the sun over time."
      ]
    },
    {
      "cell_type": "code",
      "execution_count": null,
      "metadata": {
        "id": "zfiNw7w4HeMV"
      },
      "outputs": [],
      "source": [
        "fig2 = px.scatter(df, x='time', y='distance_from_sun')\n",
        "fig2.show()"
      ]
    },
    {
      "cell_type": "markdown",
      "metadata": {
        "id": "dNmfgxQaNgaO"
      },
      "source": [
        "To show that the step size is indeed adaptive, we plot it over time."
      ]
    },
    {
      "cell_type": "code",
      "execution_count": null,
      "metadata": {
        "id": "xzJQlPwuNlqu"
      },
      "outputs": [],
      "source": [
        "fig2 = px.line(df, x='time', y='step_size')\n",
        "fig2.show()"
      ]
    }
  ],
  "metadata": {
    "colab": {
      "provenance": [],
      "toc_visible": true
    },
    "kernelspec": {
      "display_name": "Python 3",
      "name": "python3"
    },
    "language_info": {
      "name": "python"
    }
  },
  "nbformat": 4,
  "nbformat_minor": 0
}